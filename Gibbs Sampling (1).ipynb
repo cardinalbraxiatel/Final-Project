{
 "cells": [
  {
   "cell_type": "code",
   "execution_count": 81,
   "metadata": {},
   "outputs": [
    {
     "data": {
      "text/plain": [
       "1.2549912343368343"
      ]
     },
     "execution_count": 81,
     "metadata": {},
     "output_type": "execute_result"
    },
    {
     "data": {
      "image/png": "[encoded data removed]",
      "text/plain": [
       "<Figure size 432x288 with 1 Axes>"
      ]
     },
     "metadata": {},
     "output_type": "display_data"
    }
   ],
   "source": [
    "import math\n",
    "import random\n",
    "import numpy\n",
    "import matplotlib as plt\n",
    "import seaborn as sns\n",
    "import statistics\n",
    "sns.set(color_codes = True)\n",
    "\n",
    "def gibbs(N = 50000, thin = 1000, B = 5):\n",
    "    mat = numpy.empty((N  +1,3,))\n",
    "    \n",
    "    x = B/2\n",
    "    y = B/2\n",
    "    mat[0,0] = 0\n",
    "    mat[0,1] = x\n",
    "    mat[0,2] = y\n",
    "    \n",
    "    for i in range(1,N + 1):\n",
    "       \n",
    "        u1 = random.uniform(0,1)\n",
    "        alpha = (1 - math.exp(-B*y))\n",
    "        newx = -(1/y)*math.log(1-u1*alpha)\n",
    "        \n",
    "        x = newx\n",
    "        \n",
    "        u2  = random.uniform(0,1)\n",
    "        beta = (1 - math.exp(-B*x))\n",
    "        newy = -(1/x)*math.log(1-u2*beta)\n",
    "        \n",
    "        y = newy\n",
    "        \n",
    "        mat[i,0] = i\n",
    "        mat[i,1] = newx\n",
    "        mat[i,2] = newy\n",
    "    seq = mat[:,0]\n",
    "    xs = mat[:,1]\n",
    "    ys = mat[:,2]\n",
    "    \n",
    "    mat = numpy.matrix(mat)\n",
    "    return(mat)\n",
    "trials = gibbs()\n",
    "matplotlib.pyplot.hist(trials[:,1],bins = 50, label = \"X histogram\")\n",
    "statistics.mean(numpy.asarray(trials)[:,1])\n"
   ]
  },
  {
   "cell_type": "code",
   "execution_count": null,
   "metadata": {},
   "outputs": [],
   "source": []
  }
 ],
 "metadata": {
  "kernelspec": {
   "display_name": "Python 3",
   "language": "python",
   "name": "python3"
  },
  "language_info": {
   "codemirror_mode": {
    "name": "ipython",
    "version": 3
   },
   "file_extension": ".py",
   "mimetype": "text/x-python",
   "name": "python",
   "nbconvert_exporter": "python",
   "pygments_lexer": "ipython3",
   "version": "3.7.0"
  }
 },
 "nbformat": 4,
 "nbformat_minor": 2
}
